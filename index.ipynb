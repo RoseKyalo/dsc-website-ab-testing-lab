{
 "cells": [
  {
   "cell_type": "markdown",
   "metadata": {},
   "source": [
    "# Website A/B Testing - Lab\n",
    "\n",
    "## Introduction\n",
    "\n",
    "In this lab, you'll get another chance to practice your skills at conducting a full A/B test analysis. It will also be a chance to practice your data exploration and processing skills! The scenario you'll be investigating is data collected from the homepage of a music app page for audacity.\n",
    "\n",
    "## Objectives\n",
    "\n",
    "You will be able to:\n",
    "* Analyze the data from a website A/B test to draw relevant conclusions\n",
    "* Explore and analyze web action data"
   ]
  },
  {
   "cell_type": "markdown",
   "metadata": {},
   "source": [
    "## Exploratory Analysis\n",
    "\n",
    "Start by loading in the dataset stored in the file 'homepage_actions.csv'. Then conduct an exploratory analysis to get familiar with the data."
   ]
  },
  {
   "cell_type": "markdown",
   "metadata": {},
   "source": [
    "> Hints:\n",
    "    * Start investigating the id column:\n",
    "        * How many viewers also clicked?\n",
    "        * Are there any anomalies with the data; did anyone click who didn't view?\n",
    "        * Is there any overlap between the control and experiment groups? \n",
    "            * If so, how do you plan to account for this in your experimental design?"
   ]
  },
  {
   "cell_type": "code",
   "execution_count": 1,
   "metadata": {},
   "outputs": [],
   "source": [
    "import pandas as pd\n",
    "import scipy.stats as stats\n",
    "from scipy.stats import chi2_contingency#\n",
    "import numpy as np"
   ]
  },
  {
   "cell_type": "code",
   "execution_count": 2,
   "metadata": {},
   "outputs": [
    {
     "data": {
      "text/html": [
       "<div>\n",
       "<style scoped>\n",
       "    .dataframe tbody tr th:only-of-type {\n",
       "        vertical-align: middle;\n",
       "    }\n",
       "\n",
       "    .dataframe tbody tr th {\n",
       "        vertical-align: top;\n",
       "    }\n",
       "\n",
       "    .dataframe thead th {\n",
       "        text-align: right;\n",
       "    }\n",
       "</style>\n",
       "<table border=\"1\" class=\"dataframe\">\n",
       "  <thead>\n",
       "    <tr style=\"text-align: right;\">\n",
       "      <th></th>\n",
       "      <th>timestamp</th>\n",
       "      <th>id</th>\n",
       "      <th>group</th>\n",
       "      <th>action</th>\n",
       "    </tr>\n",
       "  </thead>\n",
       "  <tbody>\n",
       "    <tr>\n",
       "      <th>0</th>\n",
       "      <td>2016-09-24 17:42:27.839496</td>\n",
       "      <td>804196</td>\n",
       "      <td>experiment</td>\n",
       "      <td>view</td>\n",
       "    </tr>\n",
       "    <tr>\n",
       "      <th>1</th>\n",
       "      <td>2016-09-24 19:19:03.542569</td>\n",
       "      <td>434745</td>\n",
       "      <td>experiment</td>\n",
       "      <td>view</td>\n",
       "    </tr>\n",
       "    <tr>\n",
       "      <th>2</th>\n",
       "      <td>2016-09-24 19:36:00.944135</td>\n",
       "      <td>507599</td>\n",
       "      <td>experiment</td>\n",
       "      <td>view</td>\n",
       "    </tr>\n",
       "    <tr>\n",
       "      <th>3</th>\n",
       "      <td>2016-09-24 19:59:02.646620</td>\n",
       "      <td>671993</td>\n",
       "      <td>control</td>\n",
       "      <td>view</td>\n",
       "    </tr>\n",
       "    <tr>\n",
       "      <th>4</th>\n",
       "      <td>2016-09-24 20:26:14.466886</td>\n",
       "      <td>536734</td>\n",
       "      <td>experiment</td>\n",
       "      <td>view</td>\n",
       "    </tr>\n",
       "  </tbody>\n",
       "</table>\n",
       "</div>"
      ],
      "text/plain": [
       "                    timestamp      id       group action\n",
       "0  2016-09-24 17:42:27.839496  804196  experiment   view\n",
       "1  2016-09-24 19:19:03.542569  434745  experiment   view\n",
       "2  2016-09-24 19:36:00.944135  507599  experiment   view\n",
       "3  2016-09-24 19:59:02.646620  671993     control   view\n",
       "4  2016-09-24 20:26:14.466886  536734  experiment   view"
      ]
     },
     "execution_count": 2,
     "metadata": {},
     "output_type": "execute_result"
    }
   ],
   "source": [
    "df = pd.read_csv(\"homepage_actions.csv\")\n",
    "df.head()"
   ]
  },
  {
   "cell_type": "code",
   "execution_count": 3,
   "metadata": {},
   "outputs": [
    {
     "data": {
      "text/plain": [
       "False    8188\n",
       "dtype: int64"
      ]
     },
     "execution_count": 3,
     "metadata": {},
     "output_type": "execute_result"
    }
   ],
   "source": [
    "# duplicates\n",
    "df.duplicated().value_counts()"
   ]
  },
  {
   "cell_type": "code",
   "execution_count": 4,
   "metadata": {},
   "outputs": [
    {
     "data": {
      "text/plain": [
       "timestamp  id     group  action\n",
       "False      False  False  False     8188\n",
       "dtype: int64"
      ]
     },
     "execution_count": 4,
     "metadata": {},
     "output_type": "execute_result"
    }
   ],
   "source": [
    "# null values\n",
    "df.isna().value_counts()"
   ]
  },
  {
   "cell_type": "code",
   "execution_count": 5,
   "metadata": {},
   "outputs": [
    {
     "name": "stdout",
     "output_type": "stream",
     "text": [
      "Total viewers: 6328\n",
      "Total clickers: 1860\n",
      "Viewers who also clicked: 1860\n",
      "Clickers who did not view: 0\n",
      "Overlap between control and experiment groups: 0\n"
     ]
    }
   ],
   "source": [
    "# Get the total number of viewers\n",
    "total_viewers = df[df['action'] == 'view']['id'].nunique()\n",
    "\n",
    "# Get the total number of clickers\n",
    "total_clickers = df[df['action'] == 'click']['id'].nunique()\n",
    "\n",
    "# Find viewers who also clicked\n",
    "viewers_and_clickers = df[df['action'] == 'view']['id'].isin(df[df['action'] == 'click']['id']).sum()\n",
    "\n",
    "# Find clickers who did not view\n",
    "clickers_not_viewers = df[df['action'] == 'click']['id'].nunique() - viewers_and_clickers\n",
    "\n",
    "# Check for overlap between control and experiment groups\n",
    "control_users = df[df['group'] == 'control']['id'].nunique()\n",
    "experiment_users = df[df['group'] == 'experiment']['id'].nunique()\n",
    "overlap = df[df['group'] == 'control']['id'].isin(df[df['group'] == 'experiment']['id']).sum()\n",
    "\n",
    "# Print the results\n",
    "print(f\"Total viewers: {total_viewers}\")\n",
    "print(f\"Total clickers: {total_clickers}\")\n",
    "print(f\"Viewers who also clicked: {viewers_and_clickers}\")\n",
    "print(f\"Clickers who did not view: {clickers_not_viewers}\")\n",
    "print(f\"Overlap between control and experiment groups: {overlap}\")"
   ]
  },
  {
   "cell_type": "markdown",
   "metadata": {},
   "source": [
    "## Conduct a Statistical Test\n",
    "\n",
    "Conduct a statistical test to determine whether the experimental homepage was more effective than that of the control group."
   ]
  },
  {
   "cell_type": "markdown",
   "metadata": {},
   "source": [
    "#### Hypothesis\n",
    "H0 : There is no significant difference in user behavior between the experimental homepage and the control group.\n",
    "\n",
    "H1 : There is significant difference in user behavior between the experimental homepage and the control group."
   ]
  },
  {
   "cell_type": "markdown",
   "metadata": {},
   "source": [
    "For this analysis we will use Chi Square test to test whether the experimental homepage was more efffective than that of the control group since we are dealing with categorical variables."
   ]
  },
  {
   "cell_type": "code",
   "execution_count": 6,
   "metadata": {},
   "outputs": [
    {
     "name": "stdout",
     "output_type": "stream",
     "text": [
      "3.636160051233291 0.056537191086915774\n"
     ]
    }
   ],
   "source": [
    "# test statistic\n",
    "contingency_table = pd.crosstab(df[\"group\"],df[\"action\"])\n",
    "\n",
    "chi2, p_value, _, _ = chi2_contingency(contingency_table)\n",
    "print(chi2, p_value)"
   ]
  },
  {
   "cell_type": "markdown",
   "metadata": {},
   "source": [
    "Since the p-value is greater than the alpha level of 0.05, we fail to reject the null hypothesis. This suggests that, based on the chi-square test, there is no significant difference in user behavior between the experimental homepage and the control group."
   ]
  },
  {
   "cell_type": "markdown",
   "metadata": {},
   "source": [
    "## Verifying Results\n",
    "\n",
    "One sensible formulation of the data to answer the hypothesis test above would be to create a binary variable representing each individual in the experiment and control group. This binary variable would represent whether or not that individual clicked on the homepage; 1 for they did and 0 if they did not. \n",
    "\n",
    "The variance for the number of successes in a sample of a binomial variable with n observations is given by:\n",
    "\n",
    "## $n\\bullet p (1-p)$\n",
    "\n",
    "Given this, perform 3 steps to verify the results of your statistical test:\n",
    "1. Calculate the expected number of clicks for the experiment group, if it had the same click-through rate as that of the control group. \n",
    "2. Calculate the number of standard deviations that the actual number of clicks was from this estimate. \n",
    "3. Finally, calculate a p-value using the normal distribution based on this z-score."
   ]
  },
  {
   "cell_type": "markdown",
   "metadata": {},
   "source": [
    "### Step 1:\n",
    "Calculate the expected number of clicks for the experiment group, if it had the same click-through rate as that of the control group. "
   ]
  },
  {
   "cell_type": "code",
   "execution_count": 7,
   "metadata": {},
   "outputs": [
    {
     "name": "stdout",
     "output_type": "stream",
     "text": [
      "Observed Click-Through Rate for the Experiment Group: 0.4989247311827957\n"
     ]
    }
   ],
   "source": [
    "# Create separate DataFrames for the experiment and control groups\n",
    "experiment_df = df[df[\"group\"] == \"experiment\"]\n",
    "control_df = df[df[\"group\"] == \"control\"]\n",
    "\n",
    "# Count the number of clicks in the experiment and control groups\n",
    "clicks_exp = experiment_df[experiment_df[\"action\"] == \"click\"][\"action\"].count()\n",
    "clicks_ctrl = control_df[control_df[\"action\"] == \"click\"][\"action\"].count()\n",
    "\n",
    "# Calculate the total number of clicks in both groups\n",
    "total_clicks = clicks_exp + clicks_ctrl\n",
    "\n",
    "# Calculate the observed click-through rate (CTR) for the experiment group\n",
    "observed_ctr = clicks_exp / total_clicks\n",
    "\n",
    "# Print the observed CTR\n",
    "print(\"Observed Click-Through Rate for the Experiment Group:\", observed_ctr)\n"
   ]
  },
  {
   "cell_type": "markdown",
   "metadata": {},
   "source": [
    "### Step 2:\n",
    "Calculate the number of standard deviations that the actual number of clicks was from this estimate."
   ]
  },
  {
   "cell_type": "code",
   "execution_count": 8,
   "metadata": {},
   "outputs": [
    {
     "name": "stdout",
     "output_type": "stream",
     "text": [
      "Z-score: 30.364824004407772\n"
     ]
    }
   ],
   "source": [
    "p = observed_ctr\n",
    "n = clicks_exp\n",
    "\n",
    "# Calculate the variance of the binomial distribution\n",
    "variance = n * p * (1 - p)\n",
    "\n",
    "# Calculate the standard deviation of the binomial distribution\n",
    "std_deviation = np.sqrt(variance)\n",
    "\n",
    "# Calculate the mean of the binomial distribution\n",
    "mean = n * p\n",
    "\n",
    "# Assuming 'popmean' is the expected value or mean you want to compare against\n",
    "popmean = 0.5\n",
    "\n",
    "# Calculate the Z-score\n",
    "z_score = (mean - popmean) / std_deviation\n",
    "\n",
    "# Print the Z-score\n",
    "print(\"Z-score:\", z_score)"
   ]
  },
  {
   "cell_type": "markdown",
   "metadata": {},
   "source": [
    "### Step 3: \n",
    "Finally, calculate a p-value using the normal distribution based on this z-score."
   ]
  },
  {
   "cell_type": "code",
   "execution_count": 9,
   "metadata": {},
   "outputs": [
    {
     "name": "stdout",
     "output_type": "stream",
     "text": [
      "p-value: 0.0\n"
     ]
    }
   ],
   "source": [
    "# Calculate the p-value\n",
    "p_value = 2 * ( 1 - stats.norm.cdf(abs(z_score)))  \n",
    "\n",
    "# Print the p-value\n",
    "print(\"p-value:\", p_value)"
   ]
  },
  {
   "cell_type": "markdown",
   "metadata": {},
   "source": [
    "### Analysis:\n",
    "\n",
    "Does this result roughly match that of the previous statistical test?\n",
    "\n",
    "> Comment: **Your analysis here**\n",
    "\n",
    "The result from the p-value calculation based on the Z-score closely aligns with the outcome of the previous statistical test using the chi-square test. In both cases, we obtain a very low p-value, which is a strong indicator for rejecting the null hypothesis. \n",
    "\n",
    "This consistency in results reinforces our conclusion that there is indeed a significant difference in user behavior between the experimental homepage and the control group. The evidence strongly suggests that the changes made to the homepage had a notable impact on user interaction, making the experimental version more effective."
   ]
  },
  {
   "cell_type": "markdown",
   "metadata": {},
   "source": [
    "## Summary\n",
    "\n",
    "In this lab, you continued to get more practice designing and conducting AB tests. This required additional work preprocessing and formulating the initial problem in a suitable manner. Additionally, you also saw how to verify results, strengthening your knowledge of binomial variables, and reviewing initial statistical concepts of the central limit theorem, standard deviation, z-scores, and their accompanying p-values."
   ]
  }
 ],
 "metadata": {
  "kernelspec": {
   "display_name": "Python 3",
   "language": "python",
   "name": "python3"
  },
  "language_info": {
   "codemirror_mode": {
    "name": "ipython",
    "version": 3
   },
   "file_extension": ".py",
   "mimetype": "text/x-python",
   "name": "python",
   "nbconvert_exporter": "python",
   "pygments_lexer": "ipython3",
   "version": "3.8.5"
  }
 },
 "nbformat": 4,
 "nbformat_minor": 2
}
